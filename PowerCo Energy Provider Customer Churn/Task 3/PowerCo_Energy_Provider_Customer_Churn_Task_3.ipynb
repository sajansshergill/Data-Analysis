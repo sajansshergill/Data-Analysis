{
  "metadata": {
    "kernelspec": {
      "language": "python",
      "display_name": "Python 3",
      "name": "python3"
    },
    "language_info": {
      "name": "python",
      "version": "3.10.14",
      "mimetype": "text/x-python",
      "codemirror_mode": {
        "name": "ipython",
        "version": 3
      },
      "pygments_lexer": "ipython3",
      "nbconvert_exporter": "python",
      "file_extension": ".py"
    },
    "kaggle": {
      "accelerator": "none",
      "dataSources": [
        {
          "sourceId": 9687626,
          "sourceType": "datasetVersion",
          "datasetId": 5922267
        }
      ],
      "dockerImageVersionId": 30786,
      "isInternetEnabled": true,
      "language": "python",
      "sourceType": "notebook",
      "isGpuEnabled": false
    },
    "colab": {
      "name": "PowerCo Energy Provider Customer Churn - Task 3",
      "provenance": []
    }
  },
  "nbformat_minor": 0,
  "nbformat": 4,
  "cells": [
    {
      "source": [
        "# IMPORTANT: SOME KAGGLE DATA SOURCES ARE PRIVATE\n",
        "# RUN THIS CELL IN ORDER TO IMPORT YOUR KAGGLE DATA SOURCES.\n",
        "import kagglehub\n",
        "kagglehub.login()\n"
      ],
      "metadata": {
        "id": "z8O3mIJMgCBt"
      },
      "cell_type": "code",
      "outputs": [],
      "execution_count": null
    },
    {
      "source": [
        "# IMPORTANT: RUN THIS CELL IN ORDER TO IMPORT YOUR KAGGLE DATA SOURCES,\n",
        "# THEN FEEL FREE TO DELETE THIS CELL.\n",
        "# NOTE: THIS NOTEBOOK ENVIRONMENT DIFFERS FROM KAGGLE'S PYTHON\n",
        "# ENVIRONMENT SO THERE MAY BE MISSING LIBRARIES USED BY YOUR\n",
        "# NOTEBOOK.\n",
        "\n",
        "sajansinghshergill_clean_data_path = kagglehub.dataset_download('sajansinghshergill/clean-data')\n",
        "\n",
        "print('Data source import complete.')\n"
      ],
      "metadata": {
        "id": "0S5i-x_ygCBv"
      },
      "cell_type": "code",
      "outputs": [],
      "execution_count": null
    },
    {
      "cell_type": "code",
      "source": [
        "# This Python 3 environment comes with many helpful analytics libraries installed\n",
        "# It is defined by the kaggle/python Docker image: https://github.com/kaggle/docker-python\n",
        "# For example, here's several helpful packages to load\n",
        "\n",
        "import numpy as np # linear algebra\n",
        "import pandas as pd # data processing, CSV file I/O (e.g. pd.read_csv)\n",
        "\n",
        "# Input data files are available in the read-only \"../input/\" directory\n",
        "# For example, running this (by clicking run or pressing Shift+Enter) will list all files under the input directory\n",
        "\n",
        "import os\n",
        "for dirname, _, filenames in os.walk('/kaggle/input'):\n",
        "    for filename in filenames:\n",
        "        print(os.path.join(dirname, filename))\n",
        "\n",
        "# You can write up to 20GB to the current directory (/kaggle/working/) that gets preserved as output when you create a version using \"Save & Run All\"\n",
        "# You can also write temporary files to /kaggle/temp/, but they won't be saved outside of the current session"
      ],
      "metadata": {
        "_uuid": "8f2839f25d086af736a60e9eeb907d3b93b6e0e5",
        "_cell_guid": "b1076dfc-b9ad-4769-8c92-a6c4dae69d19",
        "execution": {
          "iopub.status.busy": "2024-10-28T04:56:56.323894Z",
          "iopub.execute_input": "2024-10-28T04:56:56.324334Z",
          "iopub.status.idle": "2024-10-28T04:56:56.33669Z",
          "shell.execute_reply.started": "2024-10-28T04:56:56.324293Z",
          "shell.execute_reply": "2024-10-28T04:56:56.335329Z"
        },
        "trusted": true,
        "id": "dDVTX7uogCBv"
      },
      "execution_count": 1,
      "outputs": []
    },
    {
      "cell_type": "code",
      "source": [
        "import pandas as pd\n",
        "\n",
        "# Load the cleaned dataset to inspect its structure\n",
        "clean_data = pd.read_csv('/content/clean_data_after_eda.csv')\n",
        "\n",
        "# Display the first few rows and the columns of the dataset\n",
        "clean_data_info = clean_data.head(), clean_data.columns.tolist()\n",
        "clean_data_info"
      ],
      "metadata": {
        "execution": {
          "iopub.status.busy": "2024-10-28T04:56:58.338867Z",
          "iopub.execute_input": "2024-10-28T04:56:58.339297Z",
          "iopub.status.idle": "2024-10-28T04:56:58.566831Z",
          "shell.execute_reply.started": "2024-10-28T04:56:58.33925Z",
          "shell.execute_reply": "2024-10-28T04:56:58.565581Z"
        },
        "trusted": true,
        "id": "Rs_8F5NhgCBv",
        "outputId": "8284cdb2-f60b-4629-ada0-01df51bdc287",
        "colab": {
          "base_uri": "https://localhost:8080/"
        }
      },
      "execution_count": 3,
      "outputs": [
        {
          "output_type": "execute_result",
          "data": {
            "text/plain": [
              "(                                 id                     channel_sales  \\\n",
              " 0  24011ae4ebbe3035111d65fa7c15bc57  foosdfpfkusacimwkcsosbicdxkicaua   \n",
              " 1  d29c2c54acc38ff3c0614d0a653813dd                           MISSING   \n",
              " 2  764c75f661154dac3a6c254cd082ea7d  foosdfpfkusacimwkcsosbicdxkicaua   \n",
              " 3  bba03439a292a1e166f80264c16191cb  lmkebamcaaclubfxadlmueccxoimlema   \n",
              " 4  149d57cf92fc41cf94415803a877cb4b                           MISSING   \n",
              " \n",
              "    cons_12m  cons_gas_12m  cons_last_month  date_activ    date_end  \\\n",
              " 0         0         54946                0  2013-06-15  2016-06-15   \n",
              " 1      4660             0                0  2009-08-21  2016-08-30   \n",
              " 2       544             0                0  2010-04-16  2016-04-16   \n",
              " 3      1584             0                0  2010-03-30  2016-03-30   \n",
              " 4      4425             0              526  2010-01-13  2016-03-07   \n",
              " \n",
              "   date_modif_prod date_renewal  forecast_cons_12m  ...  \\\n",
              " 0      2015-11-01   2015-06-23               0.00  ...   \n",
              " 1      2009-08-21   2015-08-31             189.95  ...   \n",
              " 2      2010-04-16   2015-04-17              47.96  ...   \n",
              " 3      2010-03-30   2015-03-31             240.04  ...   \n",
              " 4      2010-01-13   2015-03-09             445.75  ...   \n",
              " \n",
              "    var_6m_price_off_peak_var  var_6m_price_peak_var  \\\n",
              " 0                   0.000131           4.100838e-05   \n",
              " 1                   0.000003           1.217891e-03   \n",
              " 2                   0.000004           9.450150e-08   \n",
              " 3                   0.000003           0.000000e+00   \n",
              " 4                   0.000011           2.896760e-06   \n",
              " \n",
              "    var_6m_price_mid_peak_var  var_6m_price_off_peak_fix  \\\n",
              " 0               9.084737e-04                   2.086294   \n",
              " 1               0.000000e+00                   0.009482   \n",
              " 2               0.000000e+00                   0.000000   \n",
              " 3               0.000000e+00                   0.000000   \n",
              " 4               4.860000e-10                   0.000000   \n",
              " \n",
              "    var_6m_price_peak_fix  var_6m_price_mid_peak_fix var_6m_price_off_peak  \\\n",
              " 0              99.530517                  44.235794              2.086425   \n",
              " 1               0.000000                   0.000000              0.009485   \n",
              " 2               0.000000                   0.000000              0.000004   \n",
              " 3               0.000000                   0.000000              0.000003   \n",
              " 4               0.000000                   0.000000              0.000011   \n",
              " \n",
              "    var_6m_price_peak  var_6m_price_mid_peak  churn  \n",
              " 0       9.953056e+01           4.423670e+01      1  \n",
              " 1       1.217891e-03           0.000000e+00      0  \n",
              " 2       9.450150e-08           0.000000e+00      0  \n",
              " 3       0.000000e+00           0.000000e+00      0  \n",
              " 4       2.896760e-06           4.860000e-10      0  \n",
              " \n",
              " [5 rows x 44 columns],\n",
              " ['id',\n",
              "  'channel_sales',\n",
              "  'cons_12m',\n",
              "  'cons_gas_12m',\n",
              "  'cons_last_month',\n",
              "  'date_activ',\n",
              "  'date_end',\n",
              "  'date_modif_prod',\n",
              "  'date_renewal',\n",
              "  'forecast_cons_12m',\n",
              "  'forecast_cons_year',\n",
              "  'forecast_discount_energy',\n",
              "  'forecast_meter_rent_12m',\n",
              "  'forecast_price_energy_off_peak',\n",
              "  'forecast_price_energy_peak',\n",
              "  'forecast_price_pow_off_peak',\n",
              "  'has_gas',\n",
              "  'imp_cons',\n",
              "  'margin_gross_pow_ele',\n",
              "  'margin_net_pow_ele',\n",
              "  'nb_prod_act',\n",
              "  'net_margin',\n",
              "  'num_years_antig',\n",
              "  'origin_up',\n",
              "  'pow_max',\n",
              "  'var_year_price_off_peak_var',\n",
              "  'var_year_price_peak_var',\n",
              "  'var_year_price_mid_peak_var',\n",
              "  'var_year_price_off_peak_fix',\n",
              "  'var_year_price_peak_fix',\n",
              "  'var_year_price_mid_peak_fix',\n",
              "  'var_year_price_off_peak',\n",
              "  'var_year_price_peak',\n",
              "  'var_year_price_mid_peak',\n",
              "  'var_6m_price_off_peak_var',\n",
              "  'var_6m_price_peak_var',\n",
              "  'var_6m_price_mid_peak_var',\n",
              "  'var_6m_price_off_peak_fix',\n",
              "  'var_6m_price_peak_fix',\n",
              "  'var_6m_price_mid_peak_fix',\n",
              "  'var_6m_price_off_peak',\n",
              "  'var_6m_price_peak',\n",
              "  'var_6m_price_mid_peak',\n",
              "  'churn'])"
            ]
          },
          "metadata": {},
          "execution_count": 3
        }
      ]
    },
    {
      "cell_type": "code",
      "source": [
        "clean_data.shape"
      ],
      "metadata": {
        "execution": {
          "iopub.status.busy": "2024-10-28T04:59:30.984846Z",
          "iopub.execute_input": "2024-10-28T04:59:30.985306Z",
          "iopub.status.idle": "2024-10-28T04:59:30.99696Z",
          "shell.execute_reply.started": "2024-10-28T04:59:30.985265Z",
          "shell.execute_reply": "2024-10-28T04:59:30.99505Z"
        },
        "trusted": true,
        "id": "ATZb9BOGgCBv",
        "outputId": "6b54ec2d-6882-4051-dde4-62ebfcc4846b",
        "colab": {
          "base_uri": "https://localhost:8080/"
        }
      },
      "execution_count": 4,
      "outputs": [
        {
          "output_type": "execute_result",
          "data": {
            "text/plain": [
              "(14606, 44)"
            ]
          },
          "metadata": {},
          "execution_count": 4
        }
      ]
    },
    {
      "cell_type": "code",
      "source": [
        "clean_data.columns"
      ],
      "metadata": {
        "execution": {
          "iopub.status.busy": "2024-10-28T04:59:32.575786Z",
          "iopub.execute_input": "2024-10-28T04:59:32.576282Z",
          "iopub.status.idle": "2024-10-28T04:59:32.586749Z",
          "shell.execute_reply.started": "2024-10-28T04:59:32.576237Z",
          "shell.execute_reply": "2024-10-28T04:59:32.585393Z"
        },
        "trusted": true,
        "id": "T2z-u-jOgCBw",
        "outputId": "ca261271-39b2-4988-a885-c196d2e906d9",
        "colab": {
          "base_uri": "https://localhost:8080/"
        }
      },
      "execution_count": 5,
      "outputs": [
        {
          "output_type": "execute_result",
          "data": {
            "text/plain": [
              "Index(['id', 'channel_sales', 'cons_12m', 'cons_gas_12m', 'cons_last_month',\n",
              "       'date_activ', 'date_end', 'date_modif_prod', 'date_renewal',\n",
              "       'forecast_cons_12m', 'forecast_cons_year', 'forecast_discount_energy',\n",
              "       'forecast_meter_rent_12m', 'forecast_price_energy_off_peak',\n",
              "       'forecast_price_energy_peak', 'forecast_price_pow_off_peak', 'has_gas',\n",
              "       'imp_cons', 'margin_gross_pow_ele', 'margin_net_pow_ele', 'nb_prod_act',\n",
              "       'net_margin', 'num_years_antig', 'origin_up', 'pow_max',\n",
              "       'var_year_price_off_peak_var', 'var_year_price_peak_var',\n",
              "       'var_year_price_mid_peak_var', 'var_year_price_off_peak_fix',\n",
              "       'var_year_price_peak_fix', 'var_year_price_mid_peak_fix',\n",
              "       'var_year_price_off_peak', 'var_year_price_peak',\n",
              "       'var_year_price_mid_peak', 'var_6m_price_off_peak_var',\n",
              "       'var_6m_price_peak_var', 'var_6m_price_mid_peak_var',\n",
              "       'var_6m_price_off_peak_fix', 'var_6m_price_peak_fix',\n",
              "       'var_6m_price_mid_peak_fix', 'var_6m_price_off_peak',\n",
              "       'var_6m_price_peak', 'var_6m_price_mid_peak', 'churn'],\n",
              "      dtype='object')"
            ]
          },
          "metadata": {},
          "execution_count": 5
        }
      ]
    },
    {
      "cell_type": "code",
      "source": [
        "# Identify columns with only one unique value\n",
        "columns_to_drop = [col for col in clean_data.columns if clean_data[col].nunique() <= 1]\n",
        "\n",
        "# Drop the identified columns\n",
        "clean_data.drop(columns=columns_to_drop, inplace=True)\n",
        "\n",
        "# Verify which columns were dropped\n",
        "print(f\"Columns dropped: {columns_to_drop}\")\n",
        "print(f\"Remaining columns: {clean_data.columns.tolist()}\")\n"
      ],
      "metadata": {
        "execution": {
          "iopub.status.busy": "2024-10-28T04:59:34.855573Z",
          "iopub.execute_input": "2024-10-28T04:59:34.856013Z",
          "iopub.status.idle": "2024-10-28T04:59:34.899596Z",
          "shell.execute_reply.started": "2024-10-28T04:59:34.855972Z",
          "shell.execute_reply": "2024-10-28T04:59:34.898309Z"
        },
        "trusted": true,
        "id": "mOg4z9v0gCBw",
        "outputId": "f89c54e8-a2d0-4081-da08-0b8ae40675fa",
        "colab": {
          "base_uri": "https://localhost:8080/"
        }
      },
      "execution_count": 6,
      "outputs": [
        {
          "output_type": "stream",
          "name": "stdout",
          "text": [
            "Columns dropped: []\n",
            "Remaining columns: ['id', 'channel_sales', 'cons_12m', 'cons_gas_12m', 'cons_last_month', 'date_activ', 'date_end', 'date_modif_prod', 'date_renewal', 'forecast_cons_12m', 'forecast_cons_year', 'forecast_discount_energy', 'forecast_meter_rent_12m', 'forecast_price_energy_off_peak', 'forecast_price_energy_peak', 'forecast_price_pow_off_peak', 'has_gas', 'imp_cons', 'margin_gross_pow_ele', 'margin_net_pow_ele', 'nb_prod_act', 'net_margin', 'num_years_antig', 'origin_up', 'pow_max', 'var_year_price_off_peak_var', 'var_year_price_peak_var', 'var_year_price_mid_peak_var', 'var_year_price_off_peak_fix', 'var_year_price_peak_fix', 'var_year_price_mid_peak_fix', 'var_year_price_off_peak', 'var_year_price_peak', 'var_year_price_mid_peak', 'var_6m_price_off_peak_var', 'var_6m_price_peak_var', 'var_6m_price_mid_peak_var', 'var_6m_price_off_peak_fix', 'var_6m_price_peak_fix', 'var_6m_price_mid_peak_fix', 'var_6m_price_off_peak', 'var_6m_price_peak', 'var_6m_price_mid_peak', 'churn']\n"
          ]
        }
      ]
    },
    {
      "cell_type": "code",
      "source": [
        "# Display all columns in the cleaned dataset to verify their names\n",
        "print(clean_data.columns.tolist())"
      ],
      "metadata": {
        "execution": {
          "iopub.status.busy": "2024-10-28T04:59:38.097725Z",
          "iopub.execute_input": "2024-10-28T04:59:38.098141Z",
          "iopub.status.idle": "2024-10-28T04:59:38.10459Z",
          "shell.execute_reply.started": "2024-10-28T04:59:38.098101Z",
          "shell.execute_reply": "2024-10-28T04:59:38.103138Z"
        },
        "trusted": true,
        "id": "HBqKXjMFgCBz",
        "outputId": "2a0e0625-8612-4394-c290-1a5a08e86bc7",
        "colab": {
          "base_uri": "https://localhost:8080/"
        }
      },
      "execution_count": 7,
      "outputs": [
        {
          "output_type": "stream",
          "name": "stdout",
          "text": [
            "['id', 'channel_sales', 'cons_12m', 'cons_gas_12m', 'cons_last_month', 'date_activ', 'date_end', 'date_modif_prod', 'date_renewal', 'forecast_cons_12m', 'forecast_cons_year', 'forecast_discount_energy', 'forecast_meter_rent_12m', 'forecast_price_energy_off_peak', 'forecast_price_energy_peak', 'forecast_price_pow_off_peak', 'has_gas', 'imp_cons', 'margin_gross_pow_ele', 'margin_net_pow_ele', 'nb_prod_act', 'net_margin', 'num_years_antig', 'origin_up', 'pow_max', 'var_year_price_off_peak_var', 'var_year_price_peak_var', 'var_year_price_mid_peak_var', 'var_year_price_off_peak_fix', 'var_year_price_peak_fix', 'var_year_price_mid_peak_fix', 'var_year_price_off_peak', 'var_year_price_peak', 'var_year_price_mid_peak', 'var_6m_price_off_peak_var', 'var_6m_price_peak_var', 'var_6m_price_mid_peak_var', 'var_6m_price_off_peak_fix', 'var_6m_price_peak_fix', 'var_6m_price_mid_peak_fix', 'var_6m_price_off_peak', 'var_6m_price_peak', 'var_6m_price_mid_peak', 'churn']\n"
          ]
        }
      ]
    },
    {
      "cell_type": "code",
      "source": [
        "# Replace with the actual names of your date columns\n",
        "date_column_activ = 'date_activ'\n",
        "date_column_end = 'date_end'\n",
        "\n",
        "clean_data[date_column_activ] = clean_data[date_column_activ].astype(str)\n",
        "clean_data[date_column_end] = clean_data[date_column_end].astype(str)\n",
        "\n",
        "# Convert date columns to datetime format\n",
        "clean_data[date_column_activ] = pd.to_datetime(clean_data[date_column_activ], errors='coerce')\n",
        "clean_data[date_column_end] = pd.to_datetime(clean_data[date_column_end], errors='coerce')\n",
        "\n",
        "print(clean_data[[date_column_activ, date_column_end]].head())"
      ],
      "metadata": {
        "execution": {
          "iopub.status.busy": "2024-10-28T04:59:40.175628Z",
          "iopub.execute_input": "2024-10-28T04:59:40.176079Z",
          "iopub.status.idle": "2024-10-28T04:59:40.226297Z",
          "shell.execute_reply.started": "2024-10-28T04:59:40.176036Z",
          "shell.execute_reply": "2024-10-28T04:59:40.224558Z"
        },
        "trusted": true,
        "id": "T1i6ylLogCB0",
        "outputId": "463884e6-30d9-4860-9f2b-9ce71be188ed",
        "colab": {
          "base_uri": "https://localhost:8080/"
        }
      },
      "execution_count": 8,
      "outputs": [
        {
          "output_type": "stream",
          "name": "stdout",
          "text": [
            "  date_activ   date_end\n",
            "0 2013-06-15 2016-06-15\n",
            "1 2009-08-21 2016-08-30\n",
            "2 2010-04-16 2016-04-16\n",
            "3 2010-03-30 2016-03-30\n",
            "4 2010-01-13 2016-03-07\n"
          ]
        }
      ]
    },
    {
      "cell_type": "code",
      "source": [
        "# Check the data types of each column\n",
        "print(clean_data.dtypes)"
      ],
      "metadata": {
        "execution": {
          "iopub.status.busy": "2024-10-28T04:59:45.52723Z",
          "iopub.execute_input": "2024-10-28T04:59:45.527834Z",
          "iopub.status.idle": "2024-10-28T04:59:45.541327Z",
          "shell.execute_reply.started": "2024-10-28T04:59:45.527784Z",
          "shell.execute_reply": "2024-10-28T04:59:45.538286Z"
        },
        "trusted": true,
        "id": "NNgl8gKRgCB0",
        "outputId": "b575c77f-11b5-4a86-a3a8-74ab20f1c509",
        "colab": {
          "base_uri": "https://localhost:8080/"
        }
      },
      "execution_count": 9,
      "outputs": [
        {
          "output_type": "stream",
          "name": "stdout",
          "text": [
            "id                                        object\n",
            "channel_sales                             object\n",
            "cons_12m                                   int64\n",
            "cons_gas_12m                               int64\n",
            "cons_last_month                            int64\n",
            "date_activ                        datetime64[ns]\n",
            "date_end                          datetime64[ns]\n",
            "date_modif_prod                           object\n",
            "date_renewal                              object\n",
            "forecast_cons_12m                        float64\n",
            "forecast_cons_year                         int64\n",
            "forecast_discount_energy                 float64\n",
            "forecast_meter_rent_12m                  float64\n",
            "forecast_price_energy_off_peak           float64\n",
            "forecast_price_energy_peak               float64\n",
            "forecast_price_pow_off_peak              float64\n",
            "has_gas                                   object\n",
            "imp_cons                                 float64\n",
            "margin_gross_pow_ele                     float64\n",
            "margin_net_pow_ele                       float64\n",
            "nb_prod_act                                int64\n",
            "net_margin                               float64\n",
            "num_years_antig                            int64\n",
            "origin_up                                 object\n",
            "pow_max                                  float64\n",
            "var_year_price_off_peak_var              float64\n",
            "var_year_price_peak_var                  float64\n",
            "var_year_price_mid_peak_var              float64\n",
            "var_year_price_off_peak_fix              float64\n",
            "var_year_price_peak_fix                  float64\n",
            "var_year_price_mid_peak_fix              float64\n",
            "var_year_price_off_peak                  float64\n",
            "var_year_price_peak                      float64\n",
            "var_year_price_mid_peak                  float64\n",
            "var_6m_price_off_peak_var                float64\n",
            "var_6m_price_peak_var                    float64\n",
            "var_6m_price_mid_peak_var                float64\n",
            "var_6m_price_off_peak_fix                float64\n",
            "var_6m_price_peak_fix                    float64\n",
            "var_6m_price_mid_peak_fix                float64\n",
            "var_6m_price_off_peak                    float64\n",
            "var_6m_price_peak                        float64\n",
            "var_6m_price_mid_peak                    float64\n",
            "churn                                      int64\n",
            "dtype: object\n"
          ]
        }
      ]
    },
    {
      "cell_type": "code",
      "source": [
        "print(clean_data.columns.tolist())"
      ],
      "metadata": {
        "execution": {
          "iopub.status.busy": "2024-10-28T04:59:50.115942Z",
          "iopub.execute_input": "2024-10-28T04:59:50.116378Z",
          "iopub.status.idle": "2024-10-28T04:59:50.124099Z",
          "shell.execute_reply.started": "2024-10-28T04:59:50.116337Z",
          "shell.execute_reply": "2024-10-28T04:59:50.122596Z"
        },
        "trusted": true,
        "id": "2kv8pzkJgCB0",
        "outputId": "9a6d63de-b786-4114-8c50-91259157bbaa",
        "colab": {
          "base_uri": "https://localhost:8080/"
        }
      },
      "execution_count": 10,
      "outputs": [
        {
          "output_type": "stream",
          "name": "stdout",
          "text": [
            "['id', 'channel_sales', 'cons_12m', 'cons_gas_12m', 'cons_last_month', 'date_activ', 'date_end', 'date_modif_prod', 'date_renewal', 'forecast_cons_12m', 'forecast_cons_year', 'forecast_discount_energy', 'forecast_meter_rent_12m', 'forecast_price_energy_off_peak', 'forecast_price_energy_peak', 'forecast_price_pow_off_peak', 'has_gas', 'imp_cons', 'margin_gross_pow_ele', 'margin_net_pow_ele', 'nb_prod_act', 'net_margin', 'num_years_antig', 'origin_up', 'pow_max', 'var_year_price_off_peak_var', 'var_year_price_peak_var', 'var_year_price_mid_peak_var', 'var_year_price_off_peak_fix', 'var_year_price_peak_fix', 'var_year_price_mid_peak_fix', 'var_year_price_off_peak', 'var_year_price_peak', 'var_year_price_mid_peak', 'var_6m_price_off_peak_var', 'var_6m_price_peak_var', 'var_6m_price_mid_peak_var', 'var_6m_price_off_peak_fix', 'var_6m_price_peak_fix', 'var_6m_price_mid_peak_fix', 'var_6m_price_off_peak', 'var_6m_price_peak', 'var_6m_price_mid_peak', 'churn']\n"
          ]
        }
      ]
    },
    {
      "cell_type": "code",
      "source": [
        "# Replace these with the actual names of your off-peak price columns\n",
        "price_column_jan = 'var_year_price_off_peak_var'  # Update this\n",
        "price_column_dec = 'var_6m_price_off_peak'  # Update this\n",
        "\n",
        "# Create the new feature for price difference\n",
        "clean_data['price_diff_dec_jan'] = clean_data[price_column_jan] - clean_data[price_column_dec]\n",
        "\n",
        "# Additional feature creation\n",
        "clean_data['forecast_vs_current'] = clean_data['forecast_cons_12m'] - clean_data['cons_12m']"
      ],
      "metadata": {
        "execution": {
          "iopub.status.busy": "2024-10-28T04:59:55.167042Z",
          "iopub.execute_input": "2024-10-28T04:59:55.167447Z",
          "iopub.status.idle": "2024-10-28T04:59:55.17788Z",
          "shell.execute_reply.started": "2024-10-28T04:59:55.167408Z",
          "shell.execute_reply": "2024-10-28T04:59:55.176304Z"
        },
        "trusted": true,
        "id": "yC8MJ3I8gCB0"
      },
      "execution_count": 11,
      "outputs": []
    },
    {
      "cell_type": "code",
      "source": [
        "# Print specific price columns to check their values\n",
        "print(clean_data[[price_column_jan, price_column_dec]].head())\n"
      ],
      "metadata": {
        "execution": {
          "iopub.status.busy": "2024-10-28T04:59:58.47474Z",
          "iopub.execute_input": "2024-10-28T04:59:58.475213Z",
          "iopub.status.idle": "2024-10-28T04:59:58.485776Z",
          "shell.execute_reply.started": "2024-10-28T04:59:58.475169Z",
          "shell.execute_reply": "2024-10-28T04:59:58.484059Z"
        },
        "trusted": true,
        "id": "Tu1iZBYugCB0",
        "outputId": "e49db3a0-e35c-47d0-ea83-8e67cf37ce96",
        "colab": {
          "base_uri": "https://localhost:8080/"
        }
      },
      "execution_count": 12,
      "outputs": [
        {
          "output_type": "stream",
          "name": "stdout",
          "text": [
            "   var_year_price_off_peak_var  var_6m_price_off_peak\n",
            "0                     0.000061               2.086425\n",
            "1                     0.000005               0.009485\n",
            "2                     0.000006               0.000004\n",
            "3                     0.000005               0.000003\n",
            "4                     0.000015               0.000011\n"
          ]
        }
      ]
    },
    {
      "cell_type": "code",
      "source": [
        "# Save the feature-engineered dataset\n",
        "clean_data.to_csv('feature_engineered_data.csv', index=False)"
      ],
      "metadata": {
        "execution": {
          "iopub.status.busy": "2024-10-28T05:00:00.97266Z",
          "iopub.execute_input": "2024-10-28T05:00:00.973179Z",
          "iopub.status.idle": "2024-10-28T05:00:03.093428Z",
          "shell.execute_reply.started": "2024-10-28T05:00:00.973132Z",
          "shell.execute_reply": "2024-10-28T05:00:03.091613Z"
        },
        "trusted": true,
        "id": "rnrtDB0pgCB0"
      },
      "execution_count": 13,
      "outputs": []
    }
  ]
}